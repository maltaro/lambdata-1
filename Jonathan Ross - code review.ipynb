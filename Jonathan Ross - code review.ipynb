{
 "cells": [
  {
   "cell_type": "code",
   "execution_count": 1,
   "metadata": {},
   "outputs": [],
   "source": [
    "import numpy as np\n",
    "import pandas as pd\n",
    "import seaborn as sns\n",
    "from sklearn.metrics import confusion_matrix\n",
    "from sklearn.model_selection import train_test_split\n",
    "from sklearn.utils.multiclass import unique_labels\n"
   ]
  },
  {
   "cell_type": "markdown",
   "metadata": {},
   "source": [
    "this is from the pep8 styleguide:\n",
    "\n",
    "Function names should be lowercase, with words separated by underscores as necessary to improve readability.\n",
    "\n",
    "Variable names follow the same convention as function names."
   ]
  },
  {
   "cell_type": "code",
   "execution_count": 7,
   "metadata": {},
   "outputs": [],
   "source": [
    "# therefore I suggest:\n",
    "\n",
    "df = pd.DataFrame([1, 2, 3, 4, 5, 6])\n",
    "df_nans = pd.DataFrame([1, np.nan, 3, 4, np.nan, 6])\n",
    "\n",
    "# also I would not declare variables inside a class if they are not used inside the class. I think their scope would\n",
    "# be limited to the class and that might not be in your interest?"
   ]
  },
  {
   "cell_type": "markdown",
   "metadata": {},
   "source": [
    "Honestly I dont see a good reason to create a class yet for the functions you created, but as it was asked for \n",
    "I will follow along. But first I will look at the functions individually, then try to piece it together. "
   ]
  },
  {
   "cell_type": "code",
   "execution_count": 4,
   "metadata": {},
   "outputs": [],
   "source": [
    "def print_nulls(df):\n",
    "        \"\"\"\n",
    "        Check a dataframe for nulls, print them in a \"pretty\" format\n",
    "        \"\"\"\n",
    "\n",
    "        # Find the number of nulls in each column\n",
    "        nulls = df.isnull().sum()\n",
    "\n",
    "        # Make a dataframe from the null series\n",
    "        nulls_data = list(zip(nulls.index, nulls))\n",
    "        nulls_columns = ['Column', 'Number of Missing Values']\n",
    "        nulls_df = pd.DataFrame(nulls_data, columns=nulls_columns)\n",
    "\n",
    "        # Set the index of the dataframe to the column name\n",
    "        nulls_df = nulls_df.set_index('Column')\n",
    "\n",
    "        return nulls_df"
   ]
  },
  {
   "cell_type": "code",
   "execution_count": 13,
   "metadata": {},
   "outputs": [],
   "source": [
    "numbers = {\"first\" : [np.nan,1,2,3,4,5,0], \"second\": [1,2,np.nan,3,4,0,5]}\n",
    "\n",
    "df_nans2 = pd.DataFrame(numbers, columns = [\"first\", \"second\"])"
   ]
  },
  {
   "cell_type": "code",
   "execution_count": 17,
   "metadata": {},
   "outputs": [],
   "source": [
    "nulls = df_nans2.isnull().sum()"
   ]
  },
  {
   "cell_type": "code",
   "execution_count": 18,
   "metadata": {},
   "outputs": [],
   "source": [
    "nulls_data = list(zip(nulls.index, nulls))\n",
    "nulls_columns = ['Column', 'Number of Missing Values']\n",
    "nulls_df = pd.DataFrame(nulls_data, columns=nulls_columns)\n",
    "nulls_df = nulls_df.set_index('Column')"
   ]
  },
  {
   "cell_type": "code",
   "execution_count": 19,
   "metadata": {},
   "outputs": [
    {
     "data": {
      "text/html": [
       "<div>\n",
       "<style scoped>\n",
       "    .dataframe tbody tr th:only-of-type {\n",
       "        vertical-align: middle;\n",
       "    }\n",
       "\n",
       "    .dataframe tbody tr th {\n",
       "        vertical-align: top;\n",
       "    }\n",
       "\n",
       "    .dataframe thead th {\n",
       "        text-align: right;\n",
       "    }\n",
       "</style>\n",
       "<table border=\"1\" class=\"dataframe\">\n",
       "  <thead>\n",
       "    <tr style=\"text-align: right;\">\n",
       "      <th></th>\n",
       "      <th>Number of Missing Values</th>\n",
       "    </tr>\n",
       "    <tr>\n",
       "      <th>Column</th>\n",
       "      <th></th>\n",
       "    </tr>\n",
       "  </thead>\n",
       "  <tbody>\n",
       "    <tr>\n",
       "      <th>first</th>\n",
       "      <td>1</td>\n",
       "    </tr>\n",
       "    <tr>\n",
       "      <th>second</th>\n",
       "      <td>1</td>\n",
       "    </tr>\n",
       "  </tbody>\n",
       "</table>\n",
       "</div>"
      ],
      "text/plain": [
       "        Number of Missing Values\n",
       "Column                          \n",
       "first                          1\n",
       "second                         1"
      ]
     },
     "execution_count": 19,
     "metadata": {},
     "output_type": "execute_result"
    }
   ],
   "source": [
    "nulls_df"
   ]
  },
  {
   "cell_type": "markdown",
   "metadata": {},
   "source": [
    "I tested it for a dataframe with multiple columns - seems to be working well. I have nothing to add. "
   ]
  },
  {
   "cell_type": "code",
   "execution_count": 20,
   "metadata": {},
   "outputs": [],
   "source": [
    "def add_list_to_df(list_to_add, df):\n",
    "        \"\"\"\n",
    "        Take a list, turn into a Series, add it to a DataFrame as a new column\n",
    "        \"\"\"\n",
    "\n",
    "        df = df.copy()\n",
    "\n",
    "        # Convert list to Series\n",
    "        new_series = pd.Series(list_to_add)\n",
    "\n",
    "        # Add new Series to the dataframe\n",
    "        df = pd.concat([df, new_series], axis=1, ignore_index=True)\n",
    "\n",
    "        return df"
   ]
  },
  {
   "cell_type": "code",
   "execution_count": null,
   "metadata": {},
   "outputs": [],
   "source": [
    "# I did the same thing, basically you could just do the following:\n",
    "\n",
    "def add_list_to_dataframe(mylist, df):\n",
    "    \"\"\"\n",
    "    Adds a list to pandas dataframe as a new column. Then returns the extended\n",
    "    dataframe.\n",
    "\n",
    "    \"\"\"\n",
    "    df[\"new_column\"] = mylist\n",
    "    return df"
   ]
  },
  {
   "cell_type": "markdown",
   "metadata": {},
   "source": [
    "sry it is getting a bit late at my end so I will wrap it up here"
   ]
  },
  {
   "cell_type": "code",
   "execution_count": 21,
   "metadata": {},
   "outputs": [],
   "source": [
    "class DataFrameUtils:\n",
    "    \"\"\"\n",
    "    utility functions for working with DataFrames\n",
    "    \n",
    "    \"\"\"\n",
    "    \n",
    "    def __init__(self):\n",
    "        pass\n",
    "\n",
    "    def print_nulls(self,df):\n",
    "        \"\"\"\n",
    "        Check a dataframe for nulls, print them in a \"pretty\" format\n",
    "        \"\"\"\n",
    "\n",
    "        # Find the number of nulls in each column\n",
    "        nulls = df.isnull().sum()\n",
    "\n",
    "        # Make a dataframe from the null series\n",
    "        nulls_data = list(zip(nulls.index, nulls))\n",
    "        nulls_columns = ['Column', 'Number of Missing Values']\n",
    "        nulls_df = pd.DataFrame(nulls_data, columns=nulls_columns)\n",
    "\n",
    "        # Set the index of the dataframe to the column name\n",
    "        nulls_df = nulls_df.set_index('Column')\n",
    "\n",
    "        return nulls_df\n",
    "\n",
    "    def add_list_to_df(self,list_to_add, df):\n",
    "        \"\"\"\n",
    "        Adds a list to pandas dataframe as a new column. Then returns the extended\n",
    "        dataframe.\n",
    "        \"\"\"\n",
    "\n",
    "        df[\"new_column\"] = list_to_add\n",
    "        return df\n",
    "\n",
    "# I added the init method so a class can be instantiated and I added self as an argument to the functions \n",
    "# so that the functions actually get connected to the instantiated class (in my case first_try)"
   ]
  },
  {
   "cell_type": "code",
   "execution_count": 22,
   "metadata": {},
   "outputs": [],
   "source": [
    "first_try = DataFrameUtils()"
   ]
  },
  {
   "cell_type": "code",
   "execution_count": 23,
   "metadata": {},
   "outputs": [
    {
     "data": {
      "text/html": [
       "<div>\n",
       "<style scoped>\n",
       "    .dataframe tbody tr th:only-of-type {\n",
       "        vertical-align: middle;\n",
       "    }\n",
       "\n",
       "    .dataframe tbody tr th {\n",
       "        vertical-align: top;\n",
       "    }\n",
       "\n",
       "    .dataframe thead th {\n",
       "        text-align: right;\n",
       "    }\n",
       "</style>\n",
       "<table border=\"1\" class=\"dataframe\">\n",
       "  <thead>\n",
       "    <tr style=\"text-align: right;\">\n",
       "      <th></th>\n",
       "      <th>Number of Missing Values</th>\n",
       "    </tr>\n",
       "    <tr>\n",
       "      <th>Column</th>\n",
       "      <th></th>\n",
       "    </tr>\n",
       "  </thead>\n",
       "  <tbody>\n",
       "    <tr>\n",
       "      <th>first</th>\n",
       "      <td>1</td>\n",
       "    </tr>\n",
       "    <tr>\n",
       "      <th>second</th>\n",
       "      <td>1</td>\n",
       "    </tr>\n",
       "  </tbody>\n",
       "</table>\n",
       "</div>"
      ],
      "text/plain": [
       "        Number of Missing Values\n",
       "Column                          \n",
       "first                          1\n",
       "second                         1"
      ]
     },
     "execution_count": 23,
     "metadata": {},
     "output_type": "execute_result"
    }
   ],
   "source": [
    "first_try.print_nulls(df_nans2)"
   ]
  }
 ],
 "metadata": {
  "kernelspec": {
   "display_name": "Python 3",
   "language": "python",
   "name": "python3"
  },
  "language_info": {
   "codemirror_mode": {
    "name": "ipython",
    "version": 3
   },
   "file_extension": ".py",
   "mimetype": "text/x-python",
   "name": "python",
   "nbconvert_exporter": "python",
   "pygments_lexer": "ipython3",
   "version": "3.7.5"
  }
 },
 "nbformat": 4,
 "nbformat_minor": 2
}
